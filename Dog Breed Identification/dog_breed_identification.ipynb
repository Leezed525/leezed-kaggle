{
 "cells": [
  {
   "cell_type": "code",
   "execution_count": 2,
   "id": "initial_id",
   "metadata": {
    "collapsed": true,
    "ExecuteTime": {
     "end_time": "2023-10-03T13:16:14.569470400Z",
     "start_time": "2023-10-03T13:16:00.501224Z"
    }
   },
   "outputs": [],
   "source": [
    "# 数据预处理\n",
    "import pandas as pd\n",
    "import os\n",
    "import numpy as np\n",
    "import matplotlib.pyplot as plt\n",
    "import torch\n",
    "\n",
    "%load_ext autoreload\n",
    "%autoreload 2"
   ]
  },
  {
   "cell_type": "code",
   "execution_count": 3,
   "outputs": [],
   "source": [
    "# 读取数据\n",
    "from utils.label_index_convert import LabelIndexConvert\n",
    "from dataset import Dog_dataset\n",
    "\n",
    "current_path = os.getcwd()\n",
    "\n",
    "label_index_convert = LabelIndexConvert(current_path)\n",
    "\n",
    "# 所有训练数据\n",
    "full_train_dataset = Dog_dataset(root_path=current_path,\n",
    "                                 transform=None,\n",
    "                                 mode='train',\n",
    "                                 label_index_convert=label_index_convert)\n",
    "# 读取测试数据\n",
    "test_dataset = Dog_dataset(root_path=current_path,\n",
    "                           transform=None,\n",
    "                           mode='test',\n",
    "                           label_index_convert=label_index_convert)\n",
    "# for step,(x,y) in enumerate(test_dataset):\n",
    "#     print(x,y)\n",
    "#     print(x.shape)\n",
    "#     plt.imshow(x.permute(1,2,0))\n",
    "#     break"
   ],
   "metadata": {
    "collapsed": false,
    "ExecuteTime": {
     "end_time": "2023-10-03T13:16:15.826764Z",
     "start_time": "2023-10-03T13:16:14.573702400Z"
    }
   },
   "id": "d3fc800c4b898f96"
  },
  {
   "cell_type": "code",
   "execution_count": 5,
   "outputs": [
    {
     "name": "stdout",
     "output_type": "stream",
     "text": [
      "all_train_count: 10222\n",
      "train_size: 8177\n",
      "val_size: 2045\n"
     ]
    }
   ],
   "source": [
    "# 将训练数据分为训练集和验证集\n",
    "all_train_count = len(full_train_dataset)\n",
    "train_rate = 0.8\n",
    "train_size = int(all_train_count * train_rate)\n",
    "val_size = all_train_count - train_size\n",
    "print('all_train_count:',all_train_count)\n",
    "print('train_size:',train_size)\n",
    "print('val_size:',val_size)\n",
    "train_dataset , val_dataset = torch.utils.data.random_split(full_train_dataset,[train_size,val_size])"
   ],
   "metadata": {
    "collapsed": false,
    "ExecuteTime": {
     "end_time": "2023-10-03T13:16:31.500241900Z",
     "start_time": "2023-10-03T13:16:31.352520700Z"
    }
   },
   "id": "ff181e984641a0c5"
  },
  {
   "cell_type": "code",
   "execution_count": null,
   "outputs": [],
   "source": [],
   "metadata": {
    "collapsed": false
   },
   "id": "e0ba428df36f3974"
  }
 ],
 "metadata": {
  "kernelspec": {
   "display_name": "Python 3",
   "language": "python",
   "name": "python3"
  },
  "language_info": {
   "codemirror_mode": {
    "name": "ipython",
    "version": 2
   },
   "file_extension": ".py",
   "mimetype": "text/x-python",
   "name": "python",
   "nbconvert_exporter": "python",
   "pygments_lexer": "ipython2",
   "version": "2.7.6"
  }
 },
 "nbformat": 4,
 "nbformat_minor": 5
}
