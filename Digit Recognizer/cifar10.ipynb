{
 "cells": [
  {
   "cell_type": "code",
   "execution_count": 1,
   "id": "initial_id",
   "metadata": {
    "collapsed": true,
    "ExecuteTime": {
     "end_time": "2023-09-30T08:35:55.740783200Z",
     "start_time": "2023-09-30T08:35:53.817968200Z"
    }
   },
   "outputs": [],
   "source": [
    "import numpy as np\n",
    "import pandas as pd\n",
    "import torch\n",
    "import torch.nn as nn\n",
    "\n",
    "import matplotlib.pyplot as plt\n",
    "\n",
    "import torch.utils.data as Data\n",
    "\n",
    "import torchvision.transforms as transforms\n"
   ]
  },
  {
   "cell_type": "code",
   "execution_count": 2,
   "outputs": [],
   "source": [
    "train_read_data = pd.read_csv('./data/train.csv')\n",
    "test_read_data = pd.read_csv('./data/test.csv')"
   ],
   "metadata": {
    "collapsed": false,
    "ExecuteTime": {
     "end_time": "2023-09-30T08:35:57.503938800Z",
     "start_time": "2023-09-30T08:35:55.737630400Z"
    }
   },
   "id": "4dc673e9869f019f"
  },
  {
   "cell_type": "code",
   "execution_count": 3,
   "outputs": [
    {
     "name": "stdout",
     "output_type": "stream",
     "text": [
      "cuda\n"
     ]
    },
    {
     "data": {
      "text/plain": "<matplotlib.image.AxesImage at 0x2030fed44f0>"
     },
     "execution_count": 3,
     "metadata": {},
     "output_type": "execute_result"
    },
    {
     "data": {
      "text/plain": "<Figure size 432x288 with 1 Axes>",
      "image/png": "[encoded data removed]"
     },
     "metadata": {
      "needs_background": "light"
     },
     "output_type": "display_data"
    }
   ],
   "source": [
    "train_num = train_read_data.shape[0] * 0.8\n",
    "\n",
    "train_x = train_read_data.drop(['label'], axis=1).values\n",
    "train_x = train_x.reshape(-1, 1, 28, 28)\n",
    "train_y = train_read_data['label'].values\n",
    "\n",
    "val_x = train_x[int(train_num):]\n",
    "val_y = train_y[int(train_num):]\n",
    "\n",
    "train_x = train_x[:int(train_num)]\n",
    "train_y = train_y[:int(train_num)]\n",
    "\n",
    "test_x = test_read_data.values\n",
    "test_x = test_x.reshape(-1, 1, 28, 28)\n",
    "\n",
    "dtype = torch.float32\n",
    "device = torch.device('cuda' if torch.cuda.is_available() else 'cpu')\n",
    "print(device)\n",
    "plt.imshow(train_x[0][0], cmap='gray')"
   ],
   "metadata": {
    "collapsed": false,
    "ExecuteTime": {
     "end_time": "2023-09-30T08:35:57.504942800Z",
     "start_time": "2023-09-30T08:35:57.430775500Z"
    }
   },
   "id": "4a998bc42f9ac0d8"
  },
  {
   "cell_type": "code",
   "execution_count": 4,
   "outputs": [
    {
     "name": "stdout",
     "output_type": "stream",
     "text": [
      "torch.Size([512, 1, 28, 28])\n",
      "torch.Size([512])\n"
     ]
    }
   ],
   "source": [
    "# 数据预处理(目前仅仅把数据转成tensor)\n",
    "# transform = transforms.Compose([\n",
    "#     transforms.ToTensor(),\n",
    "#     # transforms.Normalize(mean=[0.5], std=[0.5])\n",
    "# ])\n",
    "\n",
    "train_data_set = Data.TensorDataset(torch.from_numpy(train_x), torch.from_numpy(train_y))\n",
    "val_data_set = Data.TensorDataset(torch.from_numpy(val_x), torch.from_numpy(val_y))\n",
    "test_data_set = Data.TensorDataset(torch.from_numpy(test_x))\n",
    "\n",
    "train_data = Data.DataLoader(train_data_set, batch_size=512, shuffle=True)\n",
    "val_data = Data.DataLoader(train_data_set, batch_size=512, shuffle=True)\n",
    "test_data = Data.DataLoader(test_data_set, batch_size=400, shuffle=False)\n",
    "\n",
    "for step, (x, y) in enumerate(train_data):\n",
    "    print(x.shape)\n",
    "    print(y.shape)\n",
    "    break"
   ],
   "metadata": {
    "collapsed": false,
    "ExecuteTime": {
     "end_time": "2023-09-30T08:35:57.521973200Z",
     "start_time": "2023-09-30T08:35:57.506950Z"
    }
   },
   "id": "2d7925da8764db44"
  },
  {
   "cell_type": "code",
   "execution_count": 5,
   "outputs": [],
   "source": [
    "# 定义网络\n",
    "class cifar10_net(nn.Module):\n",
    "    def __init__(self):\n",
    "        super(cifar10_net, self).__init__()\n",
    "        self.conv1 = nn.Sequential(\n",
    "            nn.Conv2d(1, 16, 5, 1, 2),\n",
    "            nn.ReLU(),\n",
    "            nn.MaxPool2d(2)\n",
    "        )\n",
    "        self.conv2 = nn.Sequential(\n",
    "            nn.Conv2d(16, 32, 5, 1, 2),\n",
    "            nn.ReLU(),\n",
    "            nn.MaxPool2d(2),\n",
    "        )\n",
    "        self.out = nn.Linear(32 * 7 * 7, 10)\n",
    "        nn.init.kaiming_normal_(self.out.weight)\n",
    "\n",
    "    def forward(self, x):\n",
    "        x = self.conv1(x)\n",
    "        x = self.conv2(x)\n",
    "        x = x.view(-1, 32 * 7 * 7)\n",
    "        output = self.out(x)\n",
    "        return output\n",
    "\n",
    "\n"
   ],
   "metadata": {
    "collapsed": false,
    "ExecuteTime": {
     "end_time": "2023-09-30T08:36:26.946987600Z",
     "start_time": "2023-09-30T08:35:57.525486900Z"
    }
   },
   "id": "70032392cf75508"
  },
  {
   "cell_type": "code",
   "execution_count": 6,
   "outputs": [],
   "source": [
    "# 定义训练函数\n",
    "def train(model, train_data, val_data, optimizer, loss_func, epoch):\n",
    "    model = model.to(device=device)\n",
    "    for i in range(epoch):\n",
    "        for step, (x, y) in enumerate(train_data):\n",
    "            x = x.to(device=device, dtype=dtype)\n",
    "            y = y.to(device=device, dtype=torch.long)\n",
    "            output = model(x)\n",
    "            loss = loss_func(output, y)\n",
    "            optimizer.zero_grad()\n",
    "            loss.backward()\n",
    "            optimizer.step()\n",
    "            if step % 50 == 0:\n",
    "                print('epoch: {}, step: {}, loss: {}'.format(i, step, loss.item()))\n",
    "                val(model, val_data)\n",
    "\n",
    "\n",
    "# 定义验证函数\n",
    "def val(model, val_data):\n",
    "    correct = 0\n",
    "    total = 0\n",
    "    for step, (x, y) in enumerate(val_data):\n",
    "        x = x.to(device=device, dtype=dtype)\n",
    "        y = y.to(device=device, dtype=torch.long)\n",
    "        output = model(x)\n",
    "        _, pred = torch.max(output, 1)\n",
    "        correct += (pred == y).sum().item()\n",
    "        total += y.shape[0]\n",
    "    print('acc: {}'.format(correct / total))"
   ],
   "metadata": {
    "collapsed": false,
    "ExecuteTime": {
     "end_time": "2023-09-30T08:36:26.946987600Z",
     "start_time": "2023-09-30T08:35:57.533487600Z"
    }
   },
   "id": "4f06d293b9267b8d"
  },
  {
   "cell_type": "code",
   "execution_count": 7,
   "outputs": [
    {
     "name": "stdout",
     "output_type": "stream",
     "text": [
      "epoch: 0, step: 0, loss: 50.458370208740234\n",
      "acc: 0.08172619047619048\n",
      "epoch: 0, step: 50, loss: 0.6202016472816467\n",
      "acc: 0.8792261904761904\n",
      "epoch: 1, step: 0, loss: 0.3561955392360687\n",
      "acc: 0.9002678571428572\n",
      "epoch: 1, step: 50, loss: 0.21133464574813843\n",
      "acc: 0.9324404761904762\n",
      "epoch: 2, step: 0, loss: 0.2933654189109802\n",
      "acc: 0.940595238095238\n",
      "epoch: 2, step: 50, loss: 0.19773411750793457\n",
      "acc: 0.9535714285714286\n",
      "epoch: 3, step: 0, loss: 0.1783764809370041\n",
      "acc: 0.9587797619047619\n",
      "epoch: 3, step: 50, loss: 0.2053975611925125\n",
      "acc: 0.9649404761904762\n",
      "epoch: 4, step: 0, loss: 0.09919382631778717\n",
      "acc: 0.9707738095238095\n",
      "epoch: 4, step: 50, loss: 0.09171508252620697\n",
      "acc: 0.9744047619047619\n",
      "epoch: 5, step: 0, loss: 0.11855461448431015\n",
      "acc: 0.9752380952380952\n",
      "epoch: 5, step: 50, loss: 0.10015727579593658\n",
      "acc: 0.9800892857142857\n",
      "epoch: 6, step: 0, loss: 0.06331959366798401\n",
      "acc: 0.981875\n",
      "epoch: 6, step: 50, loss: 0.08329681307077408\n",
      "acc: 0.9828869047619048\n",
      "epoch: 7, step: 0, loss: 0.026536840945482254\n",
      "acc: 0.9855059523809524\n",
      "epoch: 7, step: 50, loss: 0.07130305469036102\n",
      "acc: 0.9845833333333334\n",
      "epoch: 8, step: 0, loss: 0.03207416832447052\n",
      "acc: 0.9866071428571429\n",
      "epoch: 8, step: 50, loss: 0.046473246067762375\n",
      "acc: 0.9878869047619048\n",
      "epoch: 9, step: 0, loss: 0.018152030184864998\n",
      "acc: 0.9899702380952381\n",
      "epoch: 9, step: 50, loss: 0.05990712717175484\n",
      "acc: 0.9898511904761905\n"
     ]
    }
   ],
   "source": [
    "# 定义模型\n",
    "cifar10_net = cifar10_net()\n",
    "# 定义优化器\n",
    "optimizer = torch.optim.Adam(cifar10_net.parameters(), lr=0.001)\n",
    "loss_func = nn.CrossEntropyLoss()\n",
    "train(cifar10_net, train_data, val_data, optimizer, loss_func, 10)"
   ],
   "metadata": {
    "collapsed": false,
    "ExecuteTime": {
     "end_time": "2023-09-30T08:36:26.950987400Z",
     "start_time": "2023-09-30T08:35:57.535961600Z"
    }
   },
   "id": "498243b12ebee90e"
  },
  {
   "cell_type": "code",
   "execution_count": 8,
   "outputs": [],
   "source": [
    "# 定义预测函数\n",
    "def predict(model, test_data):\n",
    "    model = model.to(device=device)\n",
    "    result = []\n",
    "    for step, (x) in enumerate(test_data):\n",
    "        x = x[0].to(device=device, dtype=dtype)\n",
    "        output = model(x)\n",
    "        _, pred = torch.max(output, 1)\n",
    "        result.append(pred)\n",
    "    return result\n"
   ],
   "metadata": {
    "collapsed": false,
    "ExecuteTime": {
     "end_time": "2023-09-30T08:36:26.950987400Z",
     "start_time": "2023-09-30T08:36:26.680911700Z"
    }
   },
   "id": "17fbc71faf61dbc9"
  },
  {
   "cell_type": "code",
   "execution_count": 9,
   "outputs": [],
   "source": [
    "# 写入文件\n",
    "result = predict(cifar10_net, test_data)\n",
    "result = torch.cat(result, dim=0).cpu().numpy()\n",
    "result = pd.DataFrame({'ImageId': np.arange(1, 28001), 'Label': result})\n",
    "result.to_csv('./data/result.csv', index=False)"
   ],
   "metadata": {
    "collapsed": false,
    "ExecuteTime": {
     "end_time": "2023-09-30T08:36:26.950987400Z",
     "start_time": "2023-09-30T08:36:26.684475200Z"
    }
   },
   "id": "7f4c9d4282eaca2a"
  }
 ],
 "metadata": {
  "kernelspec": {
   "display_name": "Python 3",
   "language": "python",
   "name": "python3"
  },
  "language_info": {
   "codemirror_mode": {
    "name": "ipython",
    "version": 2
   },
   "file_extension": ".py",
   "mimetype": "text/x-python",
   "name": "python",
   "nbconvert_exporter": "python",
   "pygments_lexer": "ipython2",
   "version": "2.7.6"
  }
 },
 "nbformat": 4,
 "nbformat_minor": 5
}
